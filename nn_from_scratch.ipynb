{
  "nbformat": 4,
  "nbformat_minor": 0,
  "metadata": {
    "colab": {
      "provenance": []
    },
    "kernelspec": {
      "name": "python3",
      "display_name": "Python 3"
    },
    "language_info": {
      "name": "python"
    }
  },
  "cells": [
    {
      "cell_type": "code",
      "execution_count": 1,
      "metadata": {
        "id": "wm__ONh4qRR8"
      },
      "outputs": [],
      "source": [
        "# Standard\n",
        "import math, time, random\n",
        "import numpy as np\n",
        "\n",
        "# Data & utilities\n",
        "from sklearn.datasets import load_digits, load_iris\n",
        "from sklearn.model_selection import train_test_split\n",
        "from sklearn.preprocessing import StandardScaler\n",
        "from sklearn.decomposition import PCA\n",
        "\n",
        "# Plotting (optional)\n",
        "import matplotlib.pyplot as plt\n",
        "\n",
        "np.random.seed(42)"
      ]
    },
    {
      "cell_type": "code",
      "source": [
        "from google.colab import drive\n",
        "drive.mount(\"/content/drive\", force_remount=True)\n",
        "\n",
        "MNIST_TRAIN_IMAGES = \"/content/drive/MyDrive/train-images-idx3-ubyte/train-images-idx3-ubyte\"\n",
        "MNIST_TRAIN_LABELS = \"/content/drive/MyDrive/train-labels-idx1-ubyte/train-labels-idx1-ubyte\"\n",
        "MNIST_TEST_IMAGES  = \"/content/drive/MyDrive/t10k-images-idx3-ubyte/t10k-images-idx3-ubyte\"\n",
        "MNIST_TEST_LABELS  = \"/content/drive/MyDrive/t10k-labels-idx1-ubyte/t10k-labels-idx1-ubyte\"\n"
      ],
      "metadata": {
        "id": "o_N68_mixfYy",
        "colab": {
          "base_uri": "https://localhost:8080/"
        },
        "outputId": "547afc35-c42c-4045-a61c-8f6aea98e471"
      },
      "execution_count": 7,
      "outputs": [
        {
          "output_type": "stream",
          "name": "stdout",
          "text": [
            "Mounted at /content/drive\n"
          ]
        }
      ]
    },
    {
      "cell_type": "markdown",
      "source": [
        "### Reading and Preparing the MNIST Dataset\n",
        "\n",
        "The MNIST dataset is stored in the **IDX file format**, which encodes images and labels in binary form. To read these files, we define helper functions:\n",
        "\n",
        "- **`read_idx_images(path)`**  \n",
        "  Opens the image file (supports both raw and `.gz` compressed files), checks the magic number for validation, then reads the number of images, rows, and columns. The pixel values are loaded into a NumPy array of shape `(n_samples, rows, cols)`.\n",
        "\n",
        "- **`read_idx_labels(path)`**  \n",
        "  Opens the label file, checks its magic number, then reads the label values into a NumPy array of shape `(n_samples,)`.\n",
        "\n",
        "Using these functions, we load the training and test sets:\n",
        "- Training set: `Xtr` (60,000 images of shape 28×28) and `ytr` (labels 0–9).  \n",
        "- Test set: `Xte` (10,000 images of shape 28×28) and `yte`.\n",
        "\n",
        "---\n",
        "\n",
        "### Preprocessing\n",
        "\n",
        "1. **Flattening and Scaling**  \n",
        "   Each 28×28 image is reshaped into a 1D vector of 784 pixels, and pixel values are normalized to the range `[0,1]`.\n",
        "\n",
        "2. **Validation Split**  \n",
        "   A random 10,000-sample subset of the training set is separated as a validation set.  \n",
        "   - `X_train, y_train`: training data  \n",
        "   - `X_val, y_val`: validation data  \n",
        "   - `X_test, y_test`: test data  \n",
        "\n",
        "3. **Dataset Statistics**  \n",
        "   The final shapes are printed along with the number of unique classes:\n",
        "   - `X_train.shape`, `X_val.shape`, `X_test.shape`  \n",
        "   - Number of output classes (`num_classes = 10` for digits 0–9).\n",
        "\n",
        "This setup ensures the data is ready for training machine learning models.\n"
      ],
      "metadata": {
        "id": "F-DYh9pL6XaE"
      }
    },
    {
      "cell_type": "markdown",
      "source": [
        "choosing the dataset"
      ],
      "metadata": {
        "id": "_P1-NXwu_7aX"
      }
    },
    {
      "cell_type": "code",
      "source": [
        "import gzip\n",
        "import os\n",
        "\n",
        "def _from_bytes(f, count, dtype=np.uint8):\n",
        "    \"\"\"Read count items from file-like object f (supports raw or .gz).\"\"\"\n",
        "    data = f.read(count)\n",
        "    return np.frombuffer(data, dtype=dtype)\n",
        "\n",
        "def read_idx_images(path):\n",
        "    # supports raw or .gz\n",
        "    opener = gzip.open if path.endswith(\".gz\") else open\n",
        "    with opener(path, \"rb\") as f:\n",
        "        magic = int.from_bytes(f.read(4), \"big\")\n",
        "        assert magic == 2051, f\"Bad magic for images: {magic}\"\n",
        "        n    = int.from_bytes(f.read(4), \"big\")\n",
        "        rows = int.from_bytes(f.read(4), \"big\")\n",
        "        cols = int.from_bytes(f.read(4), \"big\")\n",
        "        buf  = f.read(n * rows * cols)\n",
        "        X = np.frombuffer(buf, dtype=np.uint8).reshape(n, rows, cols)\n",
        "        return X\n",
        "\n",
        "def read_idx_labels(path):\n",
        "    opener = gzip.open if path.endswith(\".gz\") else open\n",
        "    with opener(path, \"rb\") as f:\n",
        "        magic = int.from_bytes(f.read(4), \"big\")\n",
        "        assert magic == 2049, f\"Bad magic for labels: {magic}\"\n",
        "        n     = int.from_bytes(f.read(4), \"big\")\n",
        "        y = np.frombuffer(f.read(n), dtype=np.uint8)\n",
        "        return y\n",
        "\n",
        "# --- load ---\n",
        "Xtr = read_idx_images(MNIST_TRAIN_IMAGES)   # (60000, 28, 28)\n",
        "ytr = read_idx_labels(MNIST_TRAIN_LABELS)   # (60000,)\n",
        "Xte = read_idx_images(MNIST_TEST_IMAGES)    # (10000, 28, 28)\n",
        "yte = read_idx_labels(MNIST_TEST_LABELS)    # (10000,)\n",
        "\n",
        "# flatten + scale to [0,1]\n",
        "Xtr = Xtr.reshape(len(Xtr), -1).astype(np.float32) / 255.0\n",
        "Xte = Xte.reshape(len(Xte), -1).astype(np.float32) / 255.0\n",
        "\n",
        "# make a validation split from training (e.g., 10k for val)\n",
        "val_ratio = 10000 / len(Xtr)\n",
        "N = len(Xtr)\n",
        "perm = np.random.permutation(N)\n",
        "n_val = int(N * val_ratio)\n",
        "val_idx, tr_idx = perm[:n_val], perm[n_val:]\n",
        "\n",
        "X_train, y_train = Xtr[tr_idx], ytr[tr_idx]\n",
        "X_val,   y_val   = Xtr[val_idx], ytr[val_idx]\n",
        "X_test,  y_test  = Xte, yte\n",
        "\n",
        "input_dim   = X_train.shape[1]   # 784\n",
        "num_classes = len(np.unique(y_train))\n",
        "\n",
        "print(\"shapes ->\", X_train.shape, X_val.shape, X_test.shape)\n",
        "print(\"classes:\", num_classes)\n"
      ],
      "metadata": {
        "id": "MdAE6nPwqYoI",
        "colab": {
          "base_uri": "https://localhost:8080/"
        },
        "outputId": "5b8fd18d-f318-4efc-ad82-330a129c2026"
      },
      "execution_count": 8,
      "outputs": [
        {
          "output_type": "stream",
          "name": "stdout",
          "text": [
            "shapes -> (50000, 784) (10000, 784) (10000, 784)\n",
            "classes: 10\n"
          ]
        }
      ]
    },
    {
      "cell_type": "markdown",
      "source": [
        "### Implementing a Multi-Layer Perceptron (MLP) from Scratch\n",
        "\n",
        "We now define a simple feedforward neural network (Multi-Layer Perceptron) using **NumPy** only, without deep learning libraries.  \n",
        "The architecture chosen is:\n",
        "\n",
        "**Input (784) → Hidden Layer 1 (128, ReLU) → Hidden Layer 2 (64, ReLU) → Output (10, Softmax)**\n",
        "\n",
        "---\n",
        "\n",
        "#### Key Components\n",
        "- **One-hot encoding (`one_hot`)**  \n",
        "  Converts integer labels into one-hot encoded vectors for cross-entropy loss.\n",
        "\n",
        "- **Activation Functions**  \n",
        "  - `ReLU`: Rectified Linear Unit for hidden layers.  \n",
        "  - `Softmax`: Normalized exponential function for the output layer.\n",
        "\n",
        "- **MLP Class**  \n",
        "  - **Initialization** (`__init__`):  \n",
        "    - Sets up weights (`W1`, `W2`, `W3`) and biases (`b1`, `b2`, `b3`).  \n",
        "    - Uses **He initialization** for stable gradients in deep networks.  \n",
        "  - **Forward Pass** (`forward`):  \n",
        "    - Computes activations through layers and outputs class probabilities.  \n",
        "  - **Loss & Backpropagation** (`loss_and_grads`):  \n",
        "    - Uses **cross-entropy loss** with optional L2 regularization.  \n",
        "    - Implements backpropagation to compute gradients for all layers.  \n",
        "  - **Parameter Update** (`step`):  \n",
        "    - Updates weights and biases using gradient descent.\n",
        "\n",
        "- **Accuracy Function** (`accuracy`)  \n",
        "  Evaluates the model by checking how many predictions match the true labels.\n",
        "\n",
        "---\n",
        "\n",
        "#### Training Dynamics\n",
        "1. **Forward pass** → compute probabilities.  \n",
        "2. **Loss computation** → cross-entropy + L2 regularization.  \n",
        "3. **Backward pass** → gradients of weights & biases via chain rule.  \n",
        "4. **Update step** → apply gradient descent with learning rate `lr`.  \n",
        "\n",
        "This provides a fully functional neural network pipeline that can be trained end-to-end on MNIST using only NumPy.\n"
      ],
      "metadata": {
        "id": "gW7QsBp06bei"
      }
    },
    {
      "cell_type": "markdown",
      "source": [],
      "metadata": {
        "id": "w08IIqpbzpSG"
      }
    },
    {
      "cell_type": "code",
      "source": [
        "def one_hot(y, C):\n",
        "    Y = np.zeros((y.shape[0], C), dtype=np.float32)\n",
        "    Y[np.arange(y.shape[0]), y] = 1.0\n",
        "    return Y\n",
        "\n",
        "def softmax(Z):\n",
        "    Zs = Z - Z.max(axis=1, keepdims=True)\n",
        "    e  = np.exp(Zs)\n",
        "    return e / (e.sum(axis=1, keepdims=True) + 1e-12)\n",
        "\n",
        "def relu(X):  return np.maximum(0, X)\n",
        "def drelu(X): return (X > 0).astype(np.float32)\n",
        "\n",
        "class MLP:\n",
        "    # 784 -> 128 -> 64 -> 10 (you can tweak)\n",
        "    def __init__(self, input_dim, num_classes, h1=128, h2=64, weight_scale='he'):\n",
        "        self.shapes = [(input_dim, h1), (h1, h2), (h2, num_classes)]\n",
        "        self.params = {}\n",
        "        rng = np.random.default_rng(42)\n",
        "        for i, (din, dout) in enumerate(self.shapes):\n",
        "            if weight_scale == 'he':\n",
        "                W = rng.standard_normal((din, dout), dtype=np.float32) * np.sqrt(2.0/din)\n",
        "            else:\n",
        "                W = rng.standard_normal((din, dout), dtype=np.float32) * 0.01\n",
        "            b = np.zeros((1, dout), dtype=np.float32)\n",
        "            self.params[f\"W{i+1}\"] = W\n",
        "            self.params[f\"b{i+1}\"] = b\n",
        "\n",
        "    def forward(self, X):\n",
        "        W1,b1 = self.params[\"W1\"], self.params[\"b1\"]\n",
        "        W2,b2 = self.params[\"W2\"], self.params[\"b2\"]\n",
        "        W3,b3 = self.params[\"W3\"], self.params[\"b3\"]\n",
        "\n",
        "        Z1 = X @ W1 + b1; A1 = relu(Z1)\n",
        "        Z2 = A1 @ W2 + b2; A2 = relu(Z2)\n",
        "        S  = A2 @ W3 + b3\n",
        "        P  = softmax(S)\n",
        "        cache = (X, Z1, A1, Z2, A2, S)\n",
        "        return P, cache\n",
        "\n",
        "    def loss_and_grads(self, X, y, reg=0.0):\n",
        "        P, cache = self.forward(X)\n",
        "        N = X.shape[0]\n",
        "        Y = one_hot(y, P.shape[1])\n",
        "\n",
        "        ce = -np.sum(Y * np.log(P + 1e-12)) / N\n",
        "        l2 = sum(np.sum(self.params[k]**2) for k in (\"W1\",\"W2\",\"W3\"))\n",
        "        loss = ce + 0.5 * reg * l2\n",
        "\n",
        "        X, Z1, A1, Z2, A2, S = cache\n",
        "        W1, W2, W3 = self.params[\"W1\"], self.params[\"W2\"], self.params[\"W3\"]\n",
        "\n",
        "        dS  = (softmax(S) - Y) / N\n",
        "        dW3 = A2.T @ dS + reg * W3\n",
        "        db3 = dS.sum(axis=0, keepdims=True)\n",
        "\n",
        "        dA2 = dS @ W3.T\n",
        "        dZ2 = dA2 * drelu(Z2)\n",
        "        dW2 = A1.T @ dZ2 + reg * W2\n",
        "        db2 = dZ2.sum(axis=0, keepdims=True)\n",
        "\n",
        "        dA1 = dZ2 @ W2.T\n",
        "        dZ1 = dA1 * drelu(Z1)\n",
        "        dW1 = X.T @ dZ1 + reg * W1\n",
        "        db1 = dZ1.sum(axis=0, keepdims=True)\n",
        "\n",
        "        grads = {\"W1\": dW1, \"b1\": db1, \"W2\": dW2, \"b2\": db2, \"W3\": dW3, \"b3\": db3}\n",
        "        return loss, grads\n",
        "\n",
        "    def step(self, grads, lr):\n",
        "        for k in self.params:\n",
        "            self.params[k] -= lr * grads[k]\n",
        "\n",
        "def accuracy(model, X, y):\n",
        "    P, _ = model.forward(X)\n",
        "    return (P.argmax(axis=1) == y).mean()\n"
      ],
      "metadata": {
        "id": "Yscp66y0zpv4"
      },
      "execution_count": 9,
      "outputs": []
    },
    {
      "cell_type": "markdown",
      "source": [
        "### Training Loop\n",
        "\n",
        "We now train the MLP using **mini-batch gradient descent**. The training process involves splitting the data into smaller batches, performing forward and backward passes, and updating the weights iteratively.\n",
        "\n",
        "---\n",
        "\n",
        "#### Batch Generator\n",
        "- **`batches(X, y, bs)`**  \n",
        "  Yields batches of size `bs` from the dataset.  \n",
        "  If `shuffle=True`, the data is randomly shuffled each epoch to improve generalization.\n",
        "\n",
        "---\n",
        "\n",
        "#### Hyperparameters\n",
        "- `epochs = 20` → number of training iterations over the dataset.  \n",
        "- `lr = 0.1` → learning rate for gradient descent.  \n",
        "- `reg = 1e-4` → L2 regularization strength.  \n",
        "- `bs = 128` → batch size for mini-batch training.  \n",
        "\n",
        "---\n",
        "\n",
        "#### Training Procedure\n",
        "1. **Epoch Loop**  \n",
        "   For each epoch:\n",
        "   - Loop over mini-batches.\n",
        "   - Compute the **loss and gradients** using backpropagation.\n",
        "   - Update weights with gradient descent.\n",
        "\n",
        "2. **Metrics Tracking**  \n",
        "   - `tr_loss` (training loss)  \n",
        "   - `val_loss` (validation loss)  \n",
        "   - `tr_acc` (training accuracy)  \n",
        "   - `val_acc` (validation accuracy)  \n",
        "\n",
        "   These values are stored in the `hist` dictionary for later visualization.\n",
        "\n",
        "3. **Progress Logging**  \n",
        "   At the first epoch, every 5 epochs, and the final epoch, training statistics are printed in the format:\n",
        "\n"
      ],
      "metadata": {
        "id": "0R5xUPENztds"
      }
    },
    {
      "cell_type": "code",
      "source": [
        "def batches(X, y, bs, shuffle=True, seed=42):\n",
        "    N = len(X)\n",
        "    idx = np.arange(N)\n",
        "    if shuffle:\n",
        "        rng = np.random.default_rng(seed)\n",
        "        rng.shuffle(idx)\n",
        "    for s in range(0, N, bs):\n",
        "        e = min(s+bs, N)\n",
        "        bi = idx[s:e]\n",
        "        yield X[bi], y[bi]\n",
        "\n",
        "# hyperparams\n",
        "epochs = 20\n",
        "lr     = 0.1\n",
        "reg    = 1e-4\n",
        "bs     = 128\n",
        "\n",
        "model = MLP(input_dim=input_dim, num_classes=num_classes, h1=128, h2=64)\n",
        "\n",
        "hist = {\"tr_loss\":[], \"val_loss\":[], \"tr_acc\":[], \"val_acc\":[]}\n",
        "\n",
        "for ep in range(1, epochs+1):\n",
        "    ep_loss_sum, seen = 0.0, 0\n",
        "    for xb, yb in batches(X_train, y_train, bs, shuffle=True, seed=42+ep):\n",
        "        loss, grads = model.loss_and_grads(xb, yb, reg)\n",
        "        model.step(grads, lr)\n",
        "        ep_loss_sum += loss * len(xb)\n",
        "        seen += len(xb)\n",
        "    tr_loss = ep_loss_sum / max(1, seen)\n",
        "\n",
        "    tr_acc = accuracy(model, X_train, y_train)\n",
        "    val_loss, _ = model.loss_and_grads(X_val, y_val, reg)\n",
        "    val_acc = accuracy(model, X_val, y_val)\n",
        "\n",
        "    hist[\"tr_loss\"].append(tr_loss)\n",
        "    hist[\"val_loss\"].append(val_loss)\n",
        "    hist[\"tr_acc\"].append(tr_acc)\n",
        "    hist[\"val_acc\"].append(val_acc)\n",
        "\n",
        "    if ep == 1 or ep % 5 == 0 or ep == epochs:\n",
        "        print(f\"Epoch {ep:02d} | tr_loss {tr_loss:.4f} | val_loss {val_loss:.4f} | tr_acc {tr_acc:.3f} | val_acc {val_acc:.3f}\")\n"
      ],
      "metadata": {
        "id": "XqqvUPzsztp_",
        "colab": {
          "base_uri": "https://localhost:8080/"
        },
        "outputId": "8178f867-94e3-4511-d455-06889c65df2c"
      },
      "execution_count": 10,
      "outputs": [
        {
          "output_type": "stream",
          "name": "stdout",
          "text": [
            "Epoch 01 | tr_loss 0.4703 | val_loss 0.3062 | tr_acc 0.917 | val_acc 0.915\n",
            "Epoch 05 | tr_loss 0.1352 | val_loss 0.1446 | tr_acc 0.972 | val_acc 0.964\n",
            "Epoch 10 | tr_loss 0.0850 | val_loss 0.1229 | tr_acc 0.983 | val_acc 0.970\n",
            "Epoch 15 | tr_loss 0.0625 | val_loss 0.1066 | tr_acc 0.993 | val_acc 0.975\n",
            "Epoch 20 | tr_loss 0.0501 | val_loss 0.1009 | tr_acc 0.996 | val_acc 0.978\n"
          ]
        }
      ]
    },
    {
      "cell_type": "markdown",
      "source": [
        "graph"
      ],
      "metadata": {
        "id": "Cv4BZgpc14Iy"
      }
    },
    {
      "cell_type": "code",
      "source": [
        "plt.figure(figsize=(6,4)); plt.plot(hist[\"tr_loss\"], label=\"train\"); plt.plot(hist[\"val_loss\"], label=\"val\")\n",
        "plt.xlabel(\"epoch\"); plt.ylabel(\"loss\"); plt.title(\"Loss\"); plt.legend(); plt.show()\n",
        "\n",
        "plt.figure(figsize=(6,4)); plt.plot(hist[\"tr_acc\"], label=\"train\"); plt.plot(hist[\"val_acc\"], label=\"val\")\n",
        "plt.xlabel(\"epoch\"); plt.ylabel(\"accuracy\"); plt.title(\"Accuracy\"); plt.legend(); plt.show()\n"
      ],
      "metadata": {
        "colab": {
          "base_uri": "https://localhost:8080/",
          "height": 803
        },
        "id": "Ui0GflrM16Ax",
        "outputId": "9e63829a-1c9d-4d13-bb8b-47ea2148bac4"
      },
      "execution_count": 11,
      "outputs": [
        {
          "output_type": "display_data",
          "data": {
            "text/plain": [
              "<Figure size 600x400 with 1 Axes>"
            ],
            "image/png": "[encoded data removed]"
          },
          "metadata": {}
        },
        {
          "output_type": "display_data",
          "data": {
            "text/plain": [
              "<Figure size 600x400 with 1 Axes>"
            ],
            "image/png": "[encoded data removed]"
          },
          "metadata": {}
        }
      ]
    },
    {
      "cell_type": "markdown",
      "source": [
        "### Training and Validation Curves\n",
        "\n",
        "The following plots show the **loss** and **accuracy** for both training and validation sets across 20 epochs:\n",
        "\n",
        "- **Loss Curve**  \n",
        "  Training loss decreases steadily, showing that the model is learning effectively.  \n",
        "  Validation loss also decreases but stabilizes after ~8–10 epochs, suggesting the model has reached good generalization.\n",
        "\n",
        "- **Accuracy Curve**  \n",
        "  Training accuracy improves rapidly and approaches ~99%.  \n",
        "  Validation accuracy rises smoothly and stabilizes around ~97–98%, which is typical for MNIST with this MLP.  \n",
        "  The small gap between training and validation curves indicates slight overfitting, but overall the model generalizes well.\n",
        "\n",
        "---\n",
        "\n",
        "#### Interpretation\n",
        "- The model successfully minimizes cross-entropy loss while increasing accuracy.  \n",
        "- Training accuracy is slightly higher than validation accuracy, showing that the model has fit the training data slightly better.  \n",
        "- Since validation accuracy is close to training accuracy, the model has not overfit severely and remains robust.  \n",
        "\n",
        "These curves confirm that the NumPy-based MLP is capable of achieving strong performance on MNIST.\n"
      ],
      "metadata": {
        "id": "Mx2W9u8M7Kel"
      }
    },
    {
      "cell_type": "markdown",
      "source": [],
      "metadata": {
        "id": "D6z-EOT_2dGp"
      }
    },
    {
      "cell_type": "code",
      "source": [
        "print(f\"Training accuracy: {accuracy(model, X_train, y_train):.4f}\")\n",
        "print(f\"Test accuracy:     {accuracy(model, X_test,  y_test):.4f}\")\n"
      ],
      "metadata": {
        "colab": {
          "base_uri": "https://localhost:8080/"
        },
        "id": "ftJ2bZGU2dVt",
        "outputId": "9dc405e8-9209-4bb9-9e7c-cd945767ca8c"
      },
      "execution_count": 12,
      "outputs": [
        {
          "output_type": "stream",
          "name": "stdout",
          "text": [
            "Training accuracy: 0.9962\n",
            "Test accuracy:     0.9773\n"
          ]
        }
      ]
    },
    {
      "cell_type": "markdown",
      "source": [
        "### Final Evaluation\n",
        "\n",
        "After training for 20 epochs, the MLP model achieves the following results:\n",
        "\n",
        "- **Training Accuracy**: 99.62%  \n",
        "- **Test Accuracy**: 97.73%  \n",
        "\n",
        "---\n",
        "\n",
        "#### Interpretation\n",
        "- The training accuracy is nearly perfect (~99.6%), which shows the model has learned the training set very well.  \n",
        "- The test accuracy (~97.7%) confirms that the model generalizes effectively to unseen data.  \n",
        "- The small gap (~1.9%) between training and test accuracy indicates **mild overfitting**, but the model remains robust and well-regularized.  \n",
        "\n",
        "These results are competitive for a NumPy-only MLP implementation on MNIST, where typical accuracies range from **97–98%** without advanced optimizations.\n"
      ],
      "metadata": {
        "id": "juOUCV_E7Pzc"
      }
    }
  ]
}